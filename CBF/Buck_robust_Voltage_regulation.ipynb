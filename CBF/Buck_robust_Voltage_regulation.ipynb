{
  "nbformat": 4,
  "nbformat_minor": 0,
  "metadata": {
    "colab": {
      "name": "CBF for Buck converter .ipynb",
      "provenance": [],
      "collapsed_sections": [],
      "toc_visible": true,
      "include_colab_link": true
    },
    "kernelspec": {
      "name": "python3",
      "display_name": "Python 3"
    }
  },
  "cells": [
    {
      "cell_type": "markdown",
      "metadata": {
        "id": "view-in-github",
        "colab_type": "text"
      },
      "source": [
        "<a href=\"https://colab.research.google.com/github/asokraju/Power-Converters/blob/verified/CBF/Buck_robust_Voltage_regulation.ipynb\" target=\"_parent\"><img src=\"https://colab.research.google.com/assets/colab-badge.svg\" alt=\"Open In Colab\"/></a>"
      ]
    },
    {
      "cell_type": "markdown",
      "metadata": {
        "id": "gRenjJj5M7-S",
        "colab_type": "text"
      },
      "source": [
        "#Control of DC-DC buck converter.\n",
        "Objectives\n",
        "- Transient voltage should be with in the bounds.\n",
        "\\begin{align}\n",
        "\\underline V \\leq V(t) \\leq \\overline V\n",
        "\\end{align}\n",
        "\n",
        "Remarks:\n",
        "- We use control barrier functions\n",
        "- Method 1 does not work\n",
        "- Method 2 works"
      ]
    },
    {
      "cell_type": "code",
      "metadata": {
        "id": "mtlrvU4PMxCR",
        "colab_type": "code",
        "colab": {}
      },
      "source": [
        "import numpy as np\n",
        "import gym\n",
        "from gym import spaces\n",
        "\n",
        "import matplotlib.pyplot as plt"
      ],
      "execution_count": 1,
      "outputs": []
    },
    {
      "cell_type": "markdown",
      "metadata": {
        "id": "8YwyI35iNR6n",
        "colab_type": "text"
      },
      "source": [
        "#Physical Model\n",
        "The dynamics of the Buck converter are:\n",
        "\\begin{align}\n",
        "-L\\dot{I} &= RI+V-uV_s\\\\\n",
        "C\\dot{V} &= I-GV\n",
        "\\end{align}\n",
        "\n",
        "\n",
        "> ![alt text](https://i.imgur.com/AdJlqEN.png)\n",
        "\n",
        "\n",
        "\n",
        "\n",
        "\n",
        "\n",
        "\n",
        "The parameters are:\n",
        "\n",
        "\n",
        "*   L - Inductance\n",
        "*   C - Capacitance\n",
        "*   R - Series Resistance\n",
        "*   G - Load Impedance\n",
        "*   $V_s$ - Source Voltage\n",
        "\n",
        "The state variables:\n",
        "*  $I\\geq 0$ - current through the inductor\n",
        "*  $V\\geq 0$ - voltage across the Capacitor\n",
        "\n",
        "Input:\n",
        "* $u\\in (0,1)$ - duty-ratio\n",
        "\n",
        "## Reward function\n",
        "\n",
        "The Objective is to find an optimal policy for $u$ such that the Voltage $V$ across the capacitor is $V_d$. Consequently, we define the reward function as:\n",
        "\n",
        "\\begin{align}\n",
        "r(I,V, u) & = - (V-V_d)^2 \n",
        "\\end{align}\n",
        "\n",
        "\n"
      ]
    },
    {
      "cell_type": "code",
      "metadata": {
        "id": "SAKCbxZrNYZv",
        "colab_type": "code",
        "colab": {}
      },
      "source": [
        "#@title ##Parameters\n",
        "\n",
        "#@markdown ---\n",
        "\n",
        "#@markdown ###System Parameters (Units in 1e-3).\n",
        "Capacitance = 1 #@param {type:\"slider\", min:1, max:100, step:0.1}\n",
        "Inductance = 1 #@param {type:\"slider\", min:1, max:100, step:0.1}\n",
        "\n",
        "Resistance = 0 #@param {type:\"slider\", min:0, max:100, step:0.1}\n",
        "load = 38.8 #@param {type:\"slider\", min:1, max:100, step:0.1}\n",
        "\n",
        "#@markdown Voltage Source.\n",
        "Vs = 380 #@param {type:\"slider\", min:100, max:500, step:10}\n",
        "\n",
        "#@markdown Desired Voltage.\n",
        "Vd = 280 #@param {type:\"slider\", min: 100, max:500, step:10}\n",
        "\n",
        "\n",
        "C = Capacitance*1e-3\n",
        "L = Inductance*1e-3\n",
        "R = Resistance*1e-3\n",
        "G = load*1e-3\n"
      ],
      "execution_count": 2,
      "outputs": []
    },
    {
      "cell_type": "markdown",
      "metadata": {
        "id": "8035dmx5F1hp",
        "colab_type": "text"
      },
      "source": [
        "# Gym Model"
      ]
    },
    {
      "cell_type": "code",
      "metadata": {
        "id": "WF3Zmc__Ov4H",
        "colab_type": "code",
        "colab": {}
      },
      "source": [
        "class Buck_Converter_n(gym.Env):\n",
        "    \"\"\"\n",
        "    Buck converter model following gym interface\n",
        "    We are assuming that the switching frequency is very High\n",
        "    Action space is continious\n",
        "    \"\"\"\n",
        "    metadata = {'render.modes': ['console']}\n",
        "\n",
        "    def __init__(self, Vs = 400, L = 0.001, C = 0.001, R = 0.001, G = 0.04, Vdes = 380, dt = 1e-5):\n",
        "        super(Buck_Converter_n, self).__init__()\n",
        "\n",
        "        #parameters\n",
        "        self.Vs = Vs\n",
        "        self.L = L\n",
        "        self.C = C\n",
        "        self.R = R\n",
        "        self.G = G\n",
        "\n",
        "        #step size; since L and C are very low, the ode becomes stiff\n",
        "        #For the default parameters the step size should in the order of 1e-5\n",
        "        self.T = dt\n",
        "\n",
        "        #the steady-state equilibrium of the system is\n",
        "        self.Vdes = Vdes\n",
        "        self.Ides = self.G * self.Vdes\n",
        "        self.udes = (1/self.Vs) * (1 + self.G * self.R) * self.Vdes\n",
        "        if self.Vs <= self.Vdes:\n",
        "            raise ValueError(\"for buck converter desired voltage should be less the source Voltage\")\n",
        "        \n",
        "        #The control action is duty-ratio which lies between 0 and 1 (We are assuming that the switching frequency is very High)\n",
        "        self.action_space = spaces.Box(low=0.0, high=1.0, shape=(1,), dtype=np.float32)\n",
        "        self.observation_space = spaces.Box(low=np.array([-np.inf, -np.inf]), high=np.array([+np.inf, +np.inf]), shape=None, dtype=np.float32)\n",
        "        \n",
        "        self._get_state()\n",
        "    \n",
        "    def _get_state(self):\n",
        "        #initializing the state vector near to the desired values\n",
        "        I = np.random.uniform(low = self.Ides  , high = self.Ides )\n",
        "        V = np.random.uniform(low = self.Vdes-1, high = self.Vdes-1)\n",
        "        self.state = np.array([I, V])\n",
        "\n",
        "    def _set_state(self, I, V):\n",
        "        #using this function we can change the state variable\n",
        "        self.state = np.array([I, V])\n",
        "\n",
        "    def desired(self):\n",
        "        #Provides the steady-state variables\n",
        "        return np.array([self.Ides, self.Vdes, self.udes])\n",
        "\n",
        "    def reset(self):\n",
        "        \"\"\"\n",
        "        Important: re-initializing the state vector near to the desired values\n",
        "        :return: (np.array) \n",
        "        \"\"\"\n",
        "        #self.state = np.array(np.random.normal([self.Ides , self.Vdes], 5)).astype(np.float32)\n",
        "        self._get_state()\n",
        "        return self.state\n",
        "    \n",
        "    def step(self, action):\n",
        "\n",
        "        u = np.clip(action, 0, 1)\n",
        "\n",
        "        i = self.state[0]\n",
        "        v = self.state[1]\n",
        "\n",
        "        didt = (-1.0/self.L)*(self.R*i + v - self.Vs*u)\n",
        "        dvdt = (1.0/self.C)*(i - self.G*v)\n",
        "\n",
        "        new_i = i + self.T * didt\n",
        "        \n",
        "        new_v = v + self.T * dvdt\n",
        "\n",
        "\n",
        "        self.state = np.array([new_i, new_v]).astype(np.float32)\n",
        "\n",
        "        # normalize the rewards\n",
        "        reward = -((new_v-self.Vdes))**2\n",
        "        done = False\n",
        "        return self.state, reward, done, {}\n",
        "\n",
        "    def render(self, mode='console'):\n",
        "        # Prints the error between the desired values and their corresponding states\n",
        "        ei = self.state[0] - self.Ides\n",
        "        ev = self.state[1] - self.Vdes\n",
        "        if mode != 'console':\n",
        "            raise NotImplementedError()\n",
        "        # agent is represented as a cross, rest as a dot\n",
        "        print(\"I-Ides = {:.2f}, V-Vdes = {:.2f}\".format(ei, ev))\n",
        "\n",
        "    def close(self):\n",
        "        pass"
      ],
      "execution_count": 3,
      "outputs": []
    },
    {
      "cell_type": "markdown",
      "metadata": {
        "id": "4nrkuB8bZgTy",
        "colab_type": "text"
      },
      "source": [
        "# Model Testing"
      ]
    },
    {
      "cell_type": "code",
      "metadata": {
        "id": "pc-oHiCRWWlf",
        "colab_type": "code",
        "colab": {}
      },
      "source": [
        "def plot_signals(data, Ides, Vdes, dt = 1e-5):\n",
        "    number_of_colors = data.shape[1]\n",
        "    color = ['r', 'b']\n",
        "    des = [Ides, Vdes]\n",
        "    fig, ax = plt.subplots(nrows=1, ncols=data.shape[1], figsize = (8,4))\n",
        "    time = np.array(range(data.shape[0]), dtype=np.float32)*dt\n",
        "    for i in range(data.shape[1]):\n",
        "        ax[i].plot(time, data[:, i],  c = color[i])\n",
        "        ax[i].plot(time, np.full(data[:,i].shape[0], des[i]), marker = '.')\n",
        "        ax[i].set_ylim(des[i]-10, des[i]+10)\n",
        "    ax[0].set_title('Current', fontsize=20)\n",
        "    ax[0].set_xlabel('Time', fontsize=20)\n",
        "    ax[1].set_title('Voltage', fontsize=20)\n",
        "    ax[1].set_xlabel('Time', fontsize=20)\n",
        "    plt.show()\n",
        "\n",
        "def plot_signals(data, Ides, Vdes, dt = 1e-5, dv = 1):\n",
        "    number_of_colors = data.shape[1]\n",
        "    color = ['r', 'b']\n",
        "    des = [Ides, Vdes]\n",
        "    fig, ax = plt.subplots(nrows=1, ncols=data.shape[1], figsize = (8,4))\n",
        "    time = np.array(range(data.shape[0]), dtype=np.float32)*dt\n",
        "    for i in range(data.shape[1]):\n",
        "        ax[i].plot(time, data[:, i],  c = color[i])\n",
        "        ax[i].plot(time, np.full(data[:,i].shape[0], des[i] - dv), marker = '.')\n",
        "        ax[i].plot(time, np.full(data[:,i].shape[0], des[i] + dv), marker = '.')\n",
        "        ax[i].set_ylim(des[i]-10, des[i]+10)\n",
        "    ax[0].set_title('Current', fontsize=20)\n",
        "    ax[0].set_xlabel('Time', fontsize=20)\n",
        "    ax[1].set_title('Voltage', fontsize=20)\n",
        "    ax[1].set_xlabel('Time', fontsize=20)\n",
        "    plt.show()    "
      ],
      "execution_count": 4,
      "outputs": []
    },
    {
      "cell_type": "markdown",
      "metadata": {
        "id": "Ou4czKMKGBhc",
        "colab_type": "text"
      },
      "source": [
        "## Constant input policy"
      ]
    },
    {
      "cell_type": "code",
      "metadata": {
        "id": "tu7BRwOPYfGb",
        "colab_type": "code",
        "colab": {
          "base_uri": "https://localhost:8080/",
          "height": 344
        },
        "outputId": "0028ff80-21dd-46ad-867e-9bc80ba7532c"
      },
      "source": [
        "env = Buck_Converter_n()\n",
        "\n",
        "env.reset()\n",
        "\n",
        "obs = []\n",
        "for i in range(10**5):\n",
        "    s, r, _, _ = env.step(0.5)\n",
        "    obs.append(s)\n",
        "\n",
        "trajectory = np.concatenate(obs).reshape((10**5 ,env.observation_space.shape[0]))\n",
        "plot_signals(trajectory, env.Ides, env.Vdes, dt = 1e-5)"
      ],
      "execution_count": 5,
      "outputs": [
        {
          "output_type": "stream",
          "text": [
            "/usr/local/lib/python3.6/dist-packages/gym/logger.py:30: UserWarning: \u001b[33mWARN: Box bound precision lowered by casting to float32\u001b[0m\n",
            "  warnings.warn(colorize('%s: %s'%('WARN', msg % args), 'yellow'))\n"
          ],
          "name": "stderr"
        },
        {
          "output_type": "display_data",
          "data": {
            "image/png": "[encoded data removed]",
            "text/plain": [
              "<Figure size 576x288 with 2 Axes>"
            ]
          },
          "metadata": {
            "tags": [],
            "needs_background": "light"
          }
        }
      ]
    },
    {
      "cell_type": "markdown",
      "metadata": {
        "id": "nyH3gBgMGKwy",
        "colab_type": "text"
      },
      "source": [
        "## Stabilizing  input policy"
      ]
    },
    {
      "cell_type": "code",
      "metadata": {
        "id": "qDI5YOB7QLh-",
        "colab_type": "code",
        "colab": {
          "base_uri": "https://localhost:8080/",
          "height": 309
        },
        "outputId": "298a8522-8bbb-43f6-f681-a898b174fde5"
      },
      "source": [
        "env.reset()\n",
        "\n",
        "obs = []\n",
        "for i in range(10**5):\n",
        "    s, r, _, _ = env.step(env.udes)\n",
        "    obs.append(s)\n",
        "\n",
        "trajectory = np.concatenate(obs).reshape((10**5 ,env.observation_space.shape[0]))\n",
        "plot_signals(trajectory, env.Ides, env.Vdes, dt = 1e-5)"
      ],
      "execution_count": 6,
      "outputs": [
        {
          "output_type": "display_data",
          "data": {
            "image/png": "[encoded data removed]",
            "text/plain": [
              "<Figure size 576x288 with 2 Axes>"
            ]
          },
          "metadata": {
            "tags": [],
            "needs_background": "light"
          }
        }
      ]
    },
    {
      "cell_type": "markdown",
      "metadata": {
        "id": "wIpE6de9APVa",
        "colab_type": "text"
      },
      "source": [
        "#CBF"
      ]
    },
    {
      "cell_type": "markdown",
      "metadata": {
        "id": "WWnpchLuJS44",
        "colab_type": "text"
      },
      "source": [
        "##Method - 1"
      ]
    },
    {
      "cell_type": "markdown",
      "metadata": {
        "id": "PVMQQycXGzh7",
        "colab_type": "text"
      },
      "source": [
        "A general Quardratic program\n",
        "\n",
        "\\begin{equation}\n",
        "\\hspace{0.25cm} \n",
        "\\begin{aligned}\n",
        "& \\underset{x \\in \\mathbb{R}^n}{\\text{argmin}}   ~~~~(1/2)x^\\top Px + Qx + r&&\\\\\n",
        "& \\text{subject to} & &\\\\\n",
        "&   G x \\geq h & &\\\\\n",
        "&  Ax = b & &\\\\\n",
        "\\end{aligned}\n",
        "\\end{equation} \n",
        "\n",
        "Let $\\Delta$ denote the step size. $\\eta_1,~\\eta_2 \\in [0,1]$. We have the following constraints\n",
        "\n",
        "\\begin{equation}\n",
        "K(I_t,V_t, \\underline V) + \\Delta^2 (LC)^{-1}V_s u_t  \\geq 0\\\\\n",
        "-K(I_t,V_t, \\overline V) - \\Delta^2 (LC)^{-1}V_s u_t \\geq 0\n",
        "\\end{equation}\n",
        "where \n",
        "\\begin{align}\n",
        "K(I_t,V_t, *) &= (\\beta + \\eta_2) \\Delta C^{-1}I_t - (\\beta \\Delta C^{-1}G +\\Delta^2 (LC)^{-1}-\\eta_2\\beta) V_t-\\eta \\eta_2 *\\\\\n",
        "&=c_1I_t = c_2V_t -\\eta \\eta_2 *\n",
        "\\end{align}\n",
        "and \n",
        "$\\beta = (\\eta_1 - \\Delta C^{-1}G) $, $c_1 = (\\beta+\\eta_2)\\Delta C^{-1}$ and $c_2 = (\\beta \\Delta C^{-1}G +\\Delta^2 (LC)^{-1}-\\eta_2\\beta)$. \n",
        "\n",
        "In Case the contraints are not feasible, we let them violate minimally\n",
        "\n",
        "\\begin{equation}\n",
        "K(I_t,V_t, \\underline V) + \\Delta^2 (LC)^{-1}V_s u_t + \\epsilon_1 \\geq 0\\\\\n",
        "-K(I_t,V_t, \\overline V) - \\Delta^2 (LC)^{-1}V_s u_t +\\epsilon_2 \\geq 0\n",
        "\\end{equation}\n",
        "where $\\epsilon_1, ~ \\epsilon_2 \\in \\mathbb{R}^{m+1}$ and $\\|\\epsilon_1\\|_2^2 + ~ \\|\\epsilon_2\\|_2^2$ is used in the cost function.\n",
        "Moreover we have $u \\in (0,~1)$ i.e.,\n",
        "\\begin{align}\n",
        "u  \\geq& 0\\\\\n",
        "-u\\geq& -1\n",
        "\\end{align}\n",
        "\n",
        "\\begin{equation}\n",
        "\\hspace{0.25cm} \n",
        "\\begin{aligned}\n",
        "& \\underset{u, \\epsilon \\in \\mathbb{R}^n}{\\text{argmin}}   ~~~~(1/2)\\begin{bmatrix}\n",
        "u\\\\\n",
        "\\epsilon_1\\\\\n",
        "\\epsilon_2\n",
        "\\end{bmatrix}^\\top \\underbrace{\\begin{bmatrix} 1&0&0\\\\0& 10^{24}&0\\\\0&0&10^{24} \\end{bmatrix}}_P\\begin{bmatrix}\n",
        "u\\\\\n",
        "\\epsilon_1\\\\\n",
        "\\epsilon_2\n",
        "\\end{bmatrix} &&\\\\\n",
        "& \\text{subject to} & &\\\\\n",
        "&   \\underbrace{\\begin{bmatrix} \n",
        "\\Delta^2 (LC)^{-1}&1 &0\\\\\n",
        "-\\Delta^2 (LC)^{-1}& 0&1 \\\\\n",
        "1 &0 &0\\\\\n",
        "-1 & 0&0\n",
        "\\end{bmatrix}}_{G}\n",
        "\\begin{bmatrix}\n",
        "u\\\\\n",
        "\\epsilon_1\\\\\n",
        "\\epsilon_2\n",
        "\\end{bmatrix}\n",
        "\\geq\n",
        "\\underbrace{\n",
        "    \\begin{bmatrix}\n",
        "    -K(I_t,V_t, \\underline V)\\\\\n",
        "    K(I_t,V_t, \\overline V)\\\\\n",
        "    0\\\\\n",
        "    -1\n",
        "    \\end{bmatrix}}_{h} & &\n",
        "\\end{aligned}\n",
        "\\end{equation} "
      ]
    },
    {
      "cell_type": "code",
      "metadata": {
        "id": "fLA1g85sgtc6",
        "colab_type": "code",
        "colab": {}
      },
      "source": [
        "eta_1 = 0.5\n",
        "eta_2 = 0.6\n",
        "#Vs = 400, L = 0.001, C = 0.001, R = 0.001, G = 0.04, Vdes = 380, dt = 1e-5\n",
        "\n",
        "def K_cbf_l(env, eta_1, eta_2, V_l):\n",
        "    i = env.state[0]\n",
        "    v = env.state[1]\n",
        "\n",
        "    \n",
        "    delta = env.T\n",
        "    inv_C = 1/env.C \n",
        "    L = env.L \n",
        "    G = env.G \n",
        "    inv_LC = 1/(env.L*env.C)\n",
        "    beta = eta_1 - delta*(inv_C)*G\n",
        "    c1 = (beta + eta_2) * delta * inv_C\n",
        "    c2 = (beta * delta * inv_C * G + (delta**2)*inv_LC - eta_2*beta)\n",
        "\n",
        "    temp = c1 * i - c2 * v - eta_1*eta_2* V_l\n",
        "    #print(temp)\n",
        "    return temp\n",
        "\n",
        "def K_cbf_h(env, eta_1, eta_2, V_h):\n",
        "    i = env.state[0]\n",
        "    v = env.state[1]\n",
        "\n",
        "    delta = 1#env.T\n",
        "    inv_C = 1/env.C \n",
        "    L = env.L \n",
        "    G = env.G \n",
        "    inv_LC = 1/(env.L*env.C)\n",
        "    beta = eta_1 - delta*(inv_C)*G\n",
        "    c1 = (beta + eta_2) * delta * inv_C\n",
        "    c2 = (beta * delta * inv_C * G + (delta**2)*inv_LC - eta_2*beta)\n",
        "\n",
        "    temp = -c1 * i + c2 * v + eta_1*eta_2* V_h\n",
        "    #print(temp)\n",
        "    return temp\n",
        "\n"
      ],
      "execution_count": 7,
      "outputs": []
    },
    {
      "cell_type": "code",
      "metadata": {
        "id": "DRauUujRAQbn",
        "colab_type": "code",
        "colab": {}
      },
      "source": [
        "# #!/usr/bin/env python3\n",
        "# # -*- coding: utf-8 -*-\n",
        "# \"\"\"\n",
        "# Created on Thu Aug 16 14:17:49 2018\n",
        "\n",
        "# @author: rcheng\n",
        "# \"\"\"\n",
        "\n",
        "# import numpy as np\n",
        "# from cvxopt import matrix\n",
        "# from cvxopt import solvers\n",
        "\n",
        "# #Build barrier function model\n",
        "# def cbf(env):\n",
        "#     eta_1 = 0.5 \n",
        "#     eta_2 = 0.5\n",
        "#     V_l  = env.Vdes - 2\n",
        "#     V_h = env.Vdes +2\n",
        "#     N = 1\n",
        "#     P = matrix(np.diag([1., 1e24, 1e24]), tc='d')\n",
        "#     q = matrix(np.zeros(3))\n",
        "#     delta = env.T\n",
        "#     c = (delta**2)*(1/(env.L*env.C))\n",
        "#     print(c)\n",
        "\n",
        "#     G = -np.array([[c, 1, 0], [-c, 0, 1], [1, 0, 0], [-1, 0, 0]])\n",
        "#     G = matrix(G,tc='d')\n",
        "\n",
        "#     h = -np.array([-K_cbf_l(env, eta_1, eta_2, V_l), K_cbf_h(env, eta_1, eta_2, V_h), 0, -1])\n",
        "#     print(h)\n",
        "#     h = np.squeeze(h).astype(np.double)\n",
        "#     h = matrix(h,tc='d')\n",
        "\n",
        "#     solvers.options['show_progress'] = False\n",
        "#     sol = solvers.qp(P, q, G, h)\n",
        "\n",
        "#     u_bar = sol['x']\n",
        "#     if np.abs(u_bar[1]) > 0.001:\n",
        "#         print(\"Violation of Safety: \")\n",
        "#         print(u_bar[1])\n",
        "#     return u_bar[0]\n",
        "\n",
        "\n",
        "\n",
        "\n"
      ],
      "execution_count": 8,
      "outputs": []
    },
    {
      "cell_type": "markdown",
      "metadata": {
        "id": "JszFe9u8JPT4",
        "colab_type": "text"
      },
      "source": [
        "##Method - 2"
      ]
    },
    {
      "cell_type": "markdown",
      "metadata": {
        "id": "ShC10MXDHXAF",
        "colab_type": "text"
      },
      "source": [
        "##CBF\n",
        "\n",
        "\\begin{align*}\n",
        "    H_1&= uV_s - V +\\eta_a (I - G \\underline V) \\geq 0\\\\\n",
        "    H_2&=-uV_s + V  +  \\eta_b (G \\overline{V} - I) \\geq 0\n",
        "\\end{align*}\n",
        "\n",
        "\\begin{equation}\n",
        "\\hspace{0.25cm} \n",
        "\\begin{aligned}\n",
        "& \\underset{u, \\epsilon \\in \\mathbb{R}^n}{\\text{argmin}}   ~~~~(1/2)\\begin{bmatrix}\n",
        "u\\\\\n",
        "\\epsilon_1\\\\\n",
        "\\epsilon_2\n",
        "\\end{bmatrix}^\\top \\underbrace{\\begin{bmatrix} 0&0&0\\\\0& 10^{24}&0\\\\0&0&10^{24} \\end{bmatrix}}_P\\begin{bmatrix}\n",
        "u\\\\\n",
        "\\epsilon_1\\\\\n",
        "\\epsilon_2\n",
        "\\end{bmatrix} &&\\\\\n",
        "& \\text{subject to} & &\\\\\n",
        "&   \\underbrace{-\\begin{bmatrix} \n",
        "V_s&1 &0\\\\\n",
        "-V_s& 0&1 \\\\\n",
        "1 &0 &0\\\\\n",
        "-1 & 0&0\n",
        "\\end{bmatrix}}_{G}\n",
        "\\begin{bmatrix}\n",
        "u\\\\\n",
        "\\epsilon_1\\\\\n",
        "\\epsilon_2\n",
        "\\end{bmatrix}\n",
        "\\leq\n",
        "\\underbrace{-\n",
        "    \\begin{bmatrix}\n",
        "    V - \\eta_a (I - G \\underline V)\\\\\n",
        "    -V + \\eta_a (I - G \\overline V)\\\\\n",
        "    0\\\\\n",
        "    -1\n",
        "    \\end{bmatrix}}_{h} & &\n",
        "\\end{aligned}\n",
        "\\end{equation} "
      ]
    },
    {
      "cell_type": "code",
      "metadata": {
        "id": "DIzBI452HV2H",
        "colab_type": "code",
        "colab": {}
      },
      "source": [
        "#!/usr/bin/env python3\n",
        "# -*- coding: utf-8 -*-\n",
        "\"\"\"\n",
        "Created on Thu Aug 16 14:17:49 2018\n",
        "\n",
        "@author: rcheng\n",
        "\"\"\"\n",
        "\n",
        "import numpy as np\n",
        "from cvxopt import matrix\n",
        "from cvxopt import solvers\n",
        "\n",
        "#Build barrier function model\n",
        "def cbf_2(env, eta_1 = 0.5, eta_2 = 0.5, dV = 5, G_diss = 0.02):\n",
        "    eta_1 = 0.5 \n",
        "    eta_2 = 0.5\n",
        "    V_l  = env.Vdes - dV\n",
        "    V_h = env.Vdes + dV\n",
        "    N = 1\n",
        "    P = matrix(np.diag([0.0, 1e24, 1e24]), tc='d')\n",
        "    q = matrix(np.zeros(3))\n",
        "    delta = env.T\n",
        "\n",
        "    I = env.state[0]\n",
        "    V = env.state[1]\n",
        "\n",
        "    c_l =  V - eta_1 * (I - (env.G-G_diss) * V_l)\n",
        "    c_h = -V + eta_2 * (I - (env.G+G_diss) * V_h)\n",
        "    \n",
        "    #print(c)\n",
        "\n",
        "    G = -np.array([[env.Vs, 1, 0], [-env.Vs, 0, 1], [1, 0, 0], [-1, 0, 0]])\n",
        "    G = matrix(G,tc='d')\n",
        "\n",
        "    h = -np.array([c_l, c_h, 0, -1])\n",
        "    #print(h)\n",
        "    h = np.squeeze(h).astype(np.double)\n",
        "    h = matrix(h,tc='d')\n",
        "\n",
        "    solvers.options['show_progress'] = False\n",
        "    sol = solvers.qp(P, q, G, h)\n",
        "\n",
        "    u_bar = sol['x']\n",
        "    if np.abs(u_bar[1]) > 0.001:\n",
        "        print(\"Violation of Safety: \")\n",
        "        print(u_bar[1])\n",
        "    return u_bar[0]\n",
        "\n",
        "\n",
        "\n",
        "\n"
      ],
      "execution_count": 9,
      "outputs": []
    },
    {
      "cell_type": "code",
      "metadata": {
        "id": "8QMwk--4jbgE",
        "colab_type": "code",
        "colab": {
          "base_uri": "https://localhost:8080/",
          "height": 555
        },
        "outputId": "000d00bd-002d-45f1-d9c9-bb08409cc232"
      },
      "source": [
        "env = Buck_Converter_n()\n",
        "\n",
        "env.reset()\n",
        "print(env.state)\n",
        "obs = []\n",
        "N_steps = 10**5\n",
        "G_diss = 0.0005\n",
        "print('input: {}'.format(cbf_2(env, eta_1 = 100, eta_2 = 100, dV =  5)))\n",
        "for i in range(N_steps):\n",
        "    if i%10000 == 0:\n",
        "        env.G = env.G+G_diss\n",
        "        print('step: ', i)\n",
        "    #print('input: {}'.format(cbf_2(env)))\n",
        "    s, r, _, _ = env.step(cbf_2(env, eta_1 = 100000, eta_2 = 10000, dV =  2))\n",
        "    obs.append(s)\n",
        "\n",
        "trajectory = np.concatenate(obs).reshape((N_steps ,env.observation_space.shape[0]))\n",
        "plot_signals(trajectory, env.Ides, env.Vdes, dt = 1e-5, dv = 5)"
      ],
      "execution_count": 10,
      "outputs": [
        {
          "output_type": "stream",
          "text": [
            "/usr/local/lib/python3.6/dist-packages/gym/logger.py:30: UserWarning: \u001b[33mWARN: Box bound precision lowered by casting to float32\u001b[0m\n",
            "  warnings.warn(colorize('%s: %s'%('WARN', msg % args), 'yellow'))\n"
          ],
          "name": "stderr"
        },
        {
          "output_type": "stream",
          "text": [
            "[ 15.2 379. ]\n",
            "input: 0.9476222023612351\n",
            "step:  0\n",
            "step:  10000\n",
            "step:  20000\n",
            "step:  30000\n",
            "step:  40000\n",
            "step:  50000\n",
            "step:  60000\n",
            "step:  70000\n",
            "step:  80000\n",
            "step:  90000\n"
          ],
          "name": "stdout"
        },
        {
          "output_type": "display_data",
          "data": {
            "image/png": "[encoded data removed]",
            "text/plain": [
              "<Figure size 576x288 with 2 Axes>"
            ]
          },
          "metadata": {
            "tags": [],
            "needs_background": "light"
          }
        }
      ]
    },
    {
      "cell_type": "code",
      "metadata": {
        "id": "y-BV0JY34eDI",
        "colab_type": "code",
        "colab": {
          "base_uri": "https://localhost:8080/",
          "height": 309
        },
        "outputId": "409035bd-966e-4eff-fa2f-d6a5115cd91a"
      },
      "source": [
        "trajectory = np.concatenate(obs).reshape((N_steps  ,env.observation_space.shape[0]))\n",
        "\n",
        "plot_signals(trajectory, env.Ides, env.Vdes, dt = 1e-5, dv = 3)"
      ],
      "execution_count": 11,
      "outputs": [
        {
          "output_type": "display_data",
          "data": {
            "image/png": "[encoded data removed]",
            "text/plain": [
              "<Figure size 576x288 with 2 Axes>"
            ]
          },
          "metadata": {
            "tags": [],
            "needs_background": "light"
          }
        }
      ]
    },
    {
      "cell_type": "code",
      "metadata": {
        "id": "Al6wS0sqqBZo",
        "colab_type": "code",
        "colab": {}
      },
      "source": [
        ""
      ],
      "execution_count": 11,
      "outputs": []
    }
  ]
}