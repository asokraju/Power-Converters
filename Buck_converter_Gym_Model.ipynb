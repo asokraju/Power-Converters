{
  "nbformat": 4,
  "nbformat_minor": 0,
  "metadata": {
    "colab": {
      "name": "Buck converter Gym Model.ipynb",
      "provenance": [],
      "collapsed_sections": []
    },
    "kernelspec": {
      "name": "python3",
      "display_name": "Python 3"
    }
  },
  "cells": [
    {
      "cell_type": "markdown",
      "metadata": {
        "id": "gRenjJj5M7-S",
        "colab_type": "text"
      },
      "source": [
        "#Buck converter\n",
        "\n",
        "In the we present the model of a buck dc-dc converter in OpenAI gym environment."
      ]
    },
    {
      "cell_type": "code",
      "metadata": {
        "id": "mtlrvU4PMxCR",
        "colab_type": "code",
        "colab": {}
      },
      "source": [
        "import numpy as np\n",
        "import gym\n",
        "from gym import spaces\n",
        "\n",
        "import matplotlib.pyplot as plt"
      ],
      "execution_count": 0,
      "outputs": []
    },
    {
      "cell_type": "markdown",
      "metadata": {
        "id": "8YwyI35iNR6n",
        "colab_type": "text"
      },
      "source": [
        "#Physical Model\n",
        "The dynamics of the Buck converter are:\n",
        "\\begin{align}\n",
        "-L\\dot{I} &= RI+V-uV_s\\\\\n",
        "C\\dot{V} &= I-GV\n",
        "\\end{align}\n",
        "\n",
        "\n",
        "> ![alt text](https://i.imgur.com/AdJlqEN.png)\n",
        "\n",
        "\n",
        "\n",
        "\n",
        "\n",
        "\n",
        "\n",
        "The parameters are:\n",
        "\n",
        "\n",
        "*   L - Inductance\n",
        "*   C - Capacitance\n",
        "*   R - Series Resistance\n",
        "*   G - Load Impedance\n",
        "*   $V_s$ - Source Voltage\n",
        "\n",
        "The state variables:\n",
        "*  $I\\geq 0$ - current through the inductor\n",
        "*  $V\\geq 0$ - voltage across the Capacitor\n",
        "\n",
        "Input:\n",
        "* $u\\in (0,1)$ - duty-ratio\n",
        "\n",
        "## Reward function\n",
        "\n",
        "The Objective is to find an optimal policy for $u$ such that the Voltage $V$ across the capacitor is $V_d$. Consequently, we define the reward function as:\n",
        "\n",
        "\\begin{align}\n",
        "r(I,V, u) & = - (V-V_d)^2 \n",
        "\\end{align}\n",
        "\n",
        "\n"
      ]
    },
    {
      "cell_type": "code",
      "metadata": {
        "id": "SAKCbxZrNYZv",
        "colab_type": "code",
        "colab": {}
      },
      "source": [
        "#@title ##Use slider to change the parameters\n",
        "\n",
        "#@markdown ---\n",
        "\n",
        "#@markdown ###System Parameters (Units in 1e-3).\n",
        "Capacitance = 1 #@param {type:\"slider\", min:1, max:100, step:0.1}\n",
        "Inductance = 1 #@param {type:\"slider\", min:1, max:100, step:0.1}\n",
        "\n",
        "Resistance = 0 #@param {type:\"slider\", min:0, max:100, step:0.1}\n",
        "load = 38.8 #@param {type:\"slider\", min:1, max:100, step:0.1}\n",
        "\n",
        "#@markdown Voltage Source.\n",
        "Vs = 380 #@param {type:\"slider\", min:100, max:500, step:10}\n",
        "\n",
        "#@markdown Desired Voltage.\n",
        "Vd = 280 #@param {type:\"slider\", min: 100, max:500, step:10}\n",
        "\n",
        "\n",
        "C = Capacitance*1e-3\n",
        "L = Inductance*1e-3\n",
        "R = Resistance*1e-3\n",
        "G = load*1e-3\n"
      ],
      "execution_count": 0,
      "outputs": []
    },
    {
      "cell_type": "code",
      "metadata": {
        "id": "WF3Zmc__Ov4H",
        "colab_type": "code",
        "colab": {}
      },
      "source": [
        "class Buck_Converter_n(gym.Env):\n",
        "    \"\"\"\n",
        "    Buck converter model following gym interface\n",
        "    We are assuming that the switching frequency is very High\n",
        "    Action space is continious\n",
        "    \"\"\"\n",
        "    metadata = {'render.modes': ['console']}\n",
        "\n",
        "    def __init__(self, Vs = 400, L = 0.001, C = 0.001, R = 0.001, G = 0.04, Vdes = 380, dt = 1e-5):\n",
        "        super(Buck_Converter_n, self).__init__()\n",
        "\n",
        "        #parameters\n",
        "        self.Vs = Vs\n",
        "        self.L = L\n",
        "        self.C = C\n",
        "        self.R = R\n",
        "        self.G = G\n",
        "\n",
        "        #step size; since L and C are very low, the ode becomes stiff\n",
        "        #For the default parameters the step size should in the order of 1e-5\n",
        "        self.T = dt\n",
        "\n",
        "        #the steady-state equilibrium of the system is\n",
        "        self.Vdes = Vdes\n",
        "        self.Ides = self.G * self.Vdes\n",
        "        self.udes = (1/self.Vs) * (1 + self.G * self.R) * self.Vdes\n",
        "        if self.Vs <= self.Vdes:\n",
        "            raise ValueError(\"for buck converter desired voltage should be less the source Voltage\")\n",
        "        \n",
        "        #The control action is duty-ratio which lies between 0 and 1 (We are assuming that the switching frequency is very High)\n",
        "        self.action_space = spaces.Box(low=0.0, high=1.0, shape=(1,), dtype=np.float32)\n",
        "        self.observation_space = spaces.Box(low=np.array([-np.inf, -np.inf]), high=np.array([+np.inf, +np.inf]), shape=None, dtype=np.float32)\n",
        "        \n",
        "        self._get_state()\n",
        "    \n",
        "    def _get_state(self):\n",
        "        #initializing the state vector near to the desired values\n",
        "        I = self.Ides#np.random.uniform(low = 0, high = self.Ides+100)\n",
        "        V = self.Vdes#np.random.uniform(low = self.Vdes-10, high = self.Vdes+10)\n",
        "        self.state = np.array([I, V])\n",
        "\n",
        "    def _set_state(self, I, V):\n",
        "        #using this function we can change the state variable\n",
        "        self.state = np.array([I, V])\n",
        "\n",
        "    def desired(self):\n",
        "        #Provides the steady-state variables\n",
        "        return np.array([self.Ides, self.Vdes, self.udes])\n",
        "\n",
        "    def reset(self):\n",
        "        \"\"\"\n",
        "        Important: re-initializing the state vector near to the desired values\n",
        "        :return: (np.array) \n",
        "        \"\"\"\n",
        "        #self.state = np.array(np.random.normal([self.Ides , self.Vdes], 5)).astype(np.float32)\n",
        "        self._get_state()\n",
        "        return self.state\n",
        "    \n",
        "    def step(self, action):\n",
        "\n",
        "        u = np.clip(action, 0, 1)\n",
        "\n",
        "        i = self.state[0]\n",
        "        v = self.state[1]\n",
        "\n",
        "        didt = (-1.0/self.L)*(self.R*i + v - self.Vs*u)\n",
        "        dvdt = (1.0/self.C)*(i - self.G*v)\n",
        "\n",
        "        new_i = i + self.T * didt\n",
        "        new_v = v + self.T * dvdt\n",
        "\n",
        "        self.state = np.array([new_i, new_v]).astype(np.float32)\n",
        "\n",
        "        # normalize the rewards\n",
        "        reward = -((new_v-self.Vdes))**2\n",
        "        done = False\n",
        "        return self.state, reward, done, {}\n",
        "\n",
        "    def render(self, mode='console'):\n",
        "        # Prints the error between the desired values and their corresponding states\n",
        "        ei = self.state[0] - self.Ides\n",
        "        ev = self.state[1] - self.Vdes\n",
        "        if mode != 'console':\n",
        "            raise NotImplementedError()\n",
        "        # agent is represented as a cross, rest as a dot\n",
        "        print(\"I-Ides = {:.2f}, V-Vdes = {:.2f}\".format(ei, ev))\n",
        "\n",
        "    def close(self):\n",
        "        pass"
      ],
      "execution_count": 0,
      "outputs": []
    },
    {
      "cell_type": "markdown",
      "metadata": {
        "id": "4nrkuB8bZgTy",
        "colab_type": "text"
      },
      "source": [
        "## Testing"
      ]
    },
    {
      "cell_type": "code",
      "metadata": {
        "id": "pc-oHiCRWWlf",
        "colab_type": "code",
        "colab": {
          "base_uri": "https://localhost:8080/",
          "height": 53
        },
        "outputId": "4015f6dc-f703-4c6f-c8a9-5b4b25662f95"
      },
      "source": [
        "env = Buck_Converter_n()\n",
        "\n",
        "env.reset()\n",
        "\n",
        "obs = []\n",
        "for i in range(10**5):\n",
        "    s, r, _, _ = env.step(0.5)\n",
        "    obs.append(s)\n",
        "\n",
        "trajectory = np.concatenate(obs).reshape((10**5 ,env.observation_space.shape[0]))"
      ],
      "execution_count": 50,
      "outputs": [
        {
          "output_type": "stream",
          "text": [
            "/usr/local/lib/python3.6/dist-packages/gym/logger.py:30: UserWarning: \u001b[33mWARN: Box bound precision lowered by casting to float32\u001b[0m\n",
            "  warnings.warn(colorize('%s: %s'%('WARN', msg % args), 'yellow'))\n"
          ],
          "name": "stderr"
        }
      ]
    },
    {
      "cell_type": "code",
      "metadata": {
        "id": "tu7BRwOPYfGb",
        "colab_type": "code",
        "colab": {
          "base_uri": "https://localhost:8080/",
          "height": 309
        },
        "outputId": "18b41f64-08a6-4f78-e1a8-631194490bc4"
      },
      "source": [
        "def plot_signals(data, Ides, Vdes, dt = 1e-5):\n",
        "    number_of_colors = data.shape[1]\n",
        "    color = ['r', 'b']\n",
        "    des = [Ides, Vdes]\n",
        "    fig, ax = plt.subplots(nrows=1, ncols=data.shape[1], figsize = (8,4))\n",
        "    time = np.array(range(data.shape[0]), dtype=np.float32)*dt\n",
        "    for i in range(data.shape[1]):\n",
        "        ax[i].plot(time, data[:, i],  c = color[i])\n",
        "        ax[i].plot(time, np.full(data[:,i].shape[0], des[i]), marker = '.')\n",
        "        ax[i].set_ylim(0, des[i]+50)\n",
        "    ax[0].set_title('Current', fontsize=20)\n",
        "    ax[0].set_xlabel('Time', fontsize=20)\n",
        "    ax[1].set_title('Voltage', fontsize=20)\n",
        "    ax[1].set_xlabel('Time', fontsize=20)\n",
        "    plt.show()\n",
        "\n",
        "plot_signals(trajectory, env.Ides, env.Vdes, dt = 1e-5)"
      ],
      "execution_count": 51,
      "outputs": [
        {
          "output_type": "display_data",
          "data": {
            "image/png": "[encoded data removed]",
            "text/plain": [
              "<Figure size 576x288 with 2 Axes>"
            ]
          },
          "metadata": {
            "tags": [],
            "needs_background": "light"
          }
        }
      ]
    }
  ]
}